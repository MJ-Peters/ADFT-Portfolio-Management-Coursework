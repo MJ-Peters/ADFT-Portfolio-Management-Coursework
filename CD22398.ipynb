{
 "cells": [
  {
   "cell_type": "markdown",
   "id": "070dbad1-3dd1-4943-9b55-5c9a2bb2d135",
   "metadata": {},
   "source": [
    "# 1. PCA for Return Allocation"
   ]
  },
  {
   "cell_type": "markdown",
   "source": [
    "## 1.0. Importing Libraries"
   ],
   "metadata": {
    "collapsed": false
   }
  },
  {
   "cell_type": "code",
   "execution_count": 59,
   "outputs": [
    {
     "data": {
      "text/plain": "'END OF PCA LIBRARIES'"
     },
     "execution_count": 59,
     "metadata": {},
     "output_type": "execute_result"
    }
   ],
   "source": [
    "\"\"\"START OF PCA LIBRARIES\"\"\"\n",
    "# Load libraries\n",
    "import numpy as np\n",
    "import pandas as pd\n",
    "import matplotlib.pyplot as plt\n",
    "from pandas import read_csv, set_option\n",
    "from pandas.plotting import scatter_matrix\n",
    "import seaborn as sns\n",
    "from sklearn.preprocessing import StandardScaler\n",
    "\n",
    "#Import Model Packages\n",
    "from numpy.linalg import inv, eig, svd\n",
    "from sklearn.decomposition import PCA\n",
    "from sklearn.decomposition import TruncatedSVD\n",
    "from sklearn.manifold import TSNE\n",
    "from sklearn.decomposition import KernelPCA\n",
    "\"\"\"END OF PCA LIBRARIES\"\"\""
   ],
   "metadata": {
    "collapsed": false
   }
  },
  {
   "cell_type": "markdown",
   "id": "64caad0a-f55f-4996-b9da-3d7c08c70eb4",
   "metadata": {},
   "source": [
    "## 1.1. Importing and Preparing the Data"
   ]
  },
  {
   "cell_type": "code",
   "execution_count": 60,
   "id": "e51511bd-293f-49ac-bc54-50d2718176dc",
   "metadata": {},
   "outputs": [
    {
     "data": {
      "text/plain": "         date symbol        open       close         low        high   \n0  2016-01-05   WLTW  123.430000  125.839996  122.309998  126.250000  \\\n1  2016-01-06   WLTW  125.239998  119.980003  119.940002  125.540001   \n2  2016-01-07   WLTW  116.379997  114.949997  114.930000  119.739998   \n3  2016-01-08   WLTW  115.480003  116.620003  113.500000  117.440002   \n4  2016-01-11   WLTW  117.010002  114.970001  114.089996  117.330002   \n\n      volume  \n0  2163600.0  \n1  2386400.0  \n2  2489500.0  \n3  2006300.0  \n4  1408600.0  ",
      "text/html": "<div>\n<style scoped>\n    .dataframe tbody tr th:only-of-type {\n        vertical-align: middle;\n    }\n\n    .dataframe tbody tr th {\n        vertical-align: top;\n    }\n\n    .dataframe thead th {\n        text-align: right;\n    }\n</style>\n<table border=\"1\" class=\"dataframe\">\n  <thead>\n    <tr style=\"text-align: right;\">\n      <th></th>\n      <th>date</th>\n      <th>symbol</th>\n      <th>open</th>\n      <th>close</th>\n      <th>low</th>\n      <th>high</th>\n      <th>volume</th>\n    </tr>\n  </thead>\n  <tbody>\n    <tr>\n      <th>0</th>\n      <td>2016-01-05</td>\n      <td>WLTW</td>\n      <td>123.430000</td>\n      <td>125.839996</td>\n      <td>122.309998</td>\n      <td>126.250000</td>\n      <td>2163600.0</td>\n    </tr>\n    <tr>\n      <th>1</th>\n      <td>2016-01-06</td>\n      <td>WLTW</td>\n      <td>125.239998</td>\n      <td>119.980003</td>\n      <td>119.940002</td>\n      <td>125.540001</td>\n      <td>2386400.0</td>\n    </tr>\n    <tr>\n      <th>2</th>\n      <td>2016-01-07</td>\n      <td>WLTW</td>\n      <td>116.379997</td>\n      <td>114.949997</td>\n      <td>114.930000</td>\n      <td>119.739998</td>\n      <td>2489500.0</td>\n    </tr>\n    <tr>\n      <th>3</th>\n      <td>2016-01-08</td>\n      <td>WLTW</td>\n      <td>115.480003</td>\n      <td>116.620003</td>\n      <td>113.500000</td>\n      <td>117.440002</td>\n      <td>2006300.0</td>\n    </tr>\n    <tr>\n      <th>4</th>\n      <td>2016-01-11</td>\n      <td>WLTW</td>\n      <td>117.010002</td>\n      <td>114.970001</td>\n      <td>114.089996</td>\n      <td>117.330002</td>\n      <td>1408600.0</td>\n    </tr>\n  </tbody>\n</table>\n</div>"
     },
     "execution_count": 60,
     "metadata": {},
     "output_type": "execute_result"
    }
   ],
   "source": [
    "# Import packages and read the data\n",
    "import pandas as pd\n",
    "\n",
    "nyse_df = pd.read_csv(\"NYSE_prices_split_adjusted.csv\")\n",
    "nyse_df.head()"
   ]
  },
  {
   "cell_type": "code",
   "execution_count": 61,
   "id": "4dd0aae1-d3f7-4397-95d4-d428736ff8ba",
   "metadata": {},
   "outputs": [
    {
     "data": {
      "text/plain": "         date symbol       close\n0  2016-01-05   WLTW  125.839996\n1  2016-01-06   WLTW  119.980003\n2  2016-01-07   WLTW  114.949997\n3  2016-01-08   WLTW  116.620003\n4  2016-01-11   WLTW  114.970001",
      "text/html": "<div>\n<style scoped>\n    .dataframe tbody tr th:only-of-type {\n        vertical-align: middle;\n    }\n\n    .dataframe tbody tr th {\n        vertical-align: top;\n    }\n\n    .dataframe thead th {\n        text-align: right;\n    }\n</style>\n<table border=\"1\" class=\"dataframe\">\n  <thead>\n    <tr style=\"text-align: right;\">\n      <th></th>\n      <th>date</th>\n      <th>symbol</th>\n      <th>close</th>\n    </tr>\n  </thead>\n  <tbody>\n    <tr>\n      <th>0</th>\n      <td>2016-01-05</td>\n      <td>WLTW</td>\n      <td>125.839996</td>\n    </tr>\n    <tr>\n      <th>1</th>\n      <td>2016-01-06</td>\n      <td>WLTW</td>\n      <td>119.980003</td>\n    </tr>\n    <tr>\n      <th>2</th>\n      <td>2016-01-07</td>\n      <td>WLTW</td>\n      <td>114.949997</td>\n    </tr>\n    <tr>\n      <th>3</th>\n      <td>2016-01-08</td>\n      <td>WLTW</td>\n      <td>116.620003</td>\n    </tr>\n    <tr>\n      <th>4</th>\n      <td>2016-01-11</td>\n      <td>WLTW</td>\n      <td>114.970001</td>\n    </tr>\n  </tbody>\n</table>\n</div>"
     },
     "execution_count": 61,
     "metadata": {},
     "output_type": "execute_result"
    }
   ],
   "source": [
    "# Remove unnecessary columns\n",
    "labels = [\"open\", \"low\", \"high\", \"volume\"]\n",
    "nyse_df.drop(labels=labels, inplace=True, axis=1)\n",
    "nyse_df.head()"
   ]
  },
  {
   "cell_type": "code",
   "execution_count": 62,
   "id": "65f9a878-9e0e-46ef-a76b-7242004fd413",
   "metadata": {},
   "outputs": [
    {
     "data": {
      "text/plain": "symbol              A   AAL        AAP       AAPL  ABBV        ABC        ABT   \ndate                                                                            \n2010-01-04  22.389128  4.77  40.380001  30.572857   NaN  26.629999  26.129884  \\\n2010-01-05  22.145923  5.31  40.139999  30.625713   NaN  26.440001  25.918773   \n2010-01-06  22.067240  5.09  40.490002  30.138571   NaN  26.190001  26.062713   \n2010-01-07  22.038626  5.24  40.480000  30.082857   NaN  25.770000  26.278623   \n2010-01-08  22.031474  5.14  40.639999  30.282858   NaN  26.049999  26.412967   \n\nsymbol            ACN       ADBE        ADI  ...       XLNX        XOM   \ndate                                         ...                         \n2010-01-04  42.070000  37.090000  31.670000  ...  25.379999  69.150002  \\\n2010-01-05  42.330002  37.700001  31.620001  ...  25.059999  69.419998   \n2010-01-06  42.779999  37.619999  31.559999  ...  24.889999  70.019997   \n2010-01-07  42.740002  36.889999  31.309999  ...  24.639999  69.800003   \n2010-01-08  42.570000  36.689999  31.490000  ...  25.000000  69.519997   \n\nsymbol           XRAY   XRX  XYL       YHOO        YUM        ZBH   ZION  ZTS  \ndate                                                                           \n2010-01-04  35.330002  8.63  NaN  17.100000  25.226457  60.020000  13.33  NaN  \n2010-01-05  34.910000  8.64  NaN  17.230000  25.140187  61.919998  13.80  NaN  \n2010-01-06  35.139999  8.56  NaN  17.170000  24.960462  61.900002  15.00  NaN  \n2010-01-07  35.599998  8.60  NaN  16.700001  24.953272  63.320000  16.68  NaN  \n2010-01-08  35.599998  8.57  NaN  16.700001  24.960462  61.990002  16.41  NaN  \n\n[5 rows x 501 columns]",
      "text/html": "<div>\n<style scoped>\n    .dataframe tbody tr th:only-of-type {\n        vertical-align: middle;\n    }\n\n    .dataframe tbody tr th {\n        vertical-align: top;\n    }\n\n    .dataframe thead th {\n        text-align: right;\n    }\n</style>\n<table border=\"1\" class=\"dataframe\">\n  <thead>\n    <tr style=\"text-align: right;\">\n      <th>symbol</th>\n      <th>A</th>\n      <th>AAL</th>\n      <th>AAP</th>\n      <th>AAPL</th>\n      <th>ABBV</th>\n      <th>ABC</th>\n      <th>ABT</th>\n      <th>ACN</th>\n      <th>ADBE</th>\n      <th>ADI</th>\n      <th>...</th>\n      <th>XLNX</th>\n      <th>XOM</th>\n      <th>XRAY</th>\n      <th>XRX</th>\n      <th>XYL</th>\n      <th>YHOO</th>\n      <th>YUM</th>\n      <th>ZBH</th>\n      <th>ZION</th>\n      <th>ZTS</th>\n    </tr>\n    <tr>\n      <th>date</th>\n      <th></th>\n      <th></th>\n      <th></th>\n      <th></th>\n      <th></th>\n      <th></th>\n      <th></th>\n      <th></th>\n      <th></th>\n      <th></th>\n      <th></th>\n      <th></th>\n      <th></th>\n      <th></th>\n      <th></th>\n      <th></th>\n      <th></th>\n      <th></th>\n      <th></th>\n      <th></th>\n      <th></th>\n    </tr>\n  </thead>\n  <tbody>\n    <tr>\n      <th>2010-01-04</th>\n      <td>22.389128</td>\n      <td>4.77</td>\n      <td>40.380001</td>\n      <td>30.572857</td>\n      <td>NaN</td>\n      <td>26.629999</td>\n      <td>26.129884</td>\n      <td>42.070000</td>\n      <td>37.090000</td>\n      <td>31.670000</td>\n      <td>...</td>\n      <td>25.379999</td>\n      <td>69.150002</td>\n      <td>35.330002</td>\n      <td>8.63</td>\n      <td>NaN</td>\n      <td>17.100000</td>\n      <td>25.226457</td>\n      <td>60.020000</td>\n      <td>13.33</td>\n      <td>NaN</td>\n    </tr>\n    <tr>\n      <th>2010-01-05</th>\n      <td>22.145923</td>\n      <td>5.31</td>\n      <td>40.139999</td>\n      <td>30.625713</td>\n      <td>NaN</td>\n      <td>26.440001</td>\n      <td>25.918773</td>\n      <td>42.330002</td>\n      <td>37.700001</td>\n      <td>31.620001</td>\n      <td>...</td>\n      <td>25.059999</td>\n      <td>69.419998</td>\n      <td>34.910000</td>\n      <td>8.64</td>\n      <td>NaN</td>\n      <td>17.230000</td>\n      <td>25.140187</td>\n      <td>61.919998</td>\n      <td>13.80</td>\n      <td>NaN</td>\n    </tr>\n    <tr>\n      <th>2010-01-06</th>\n      <td>22.067240</td>\n      <td>5.09</td>\n      <td>40.490002</td>\n      <td>30.138571</td>\n      <td>NaN</td>\n      <td>26.190001</td>\n      <td>26.062713</td>\n      <td>42.779999</td>\n      <td>37.619999</td>\n      <td>31.559999</td>\n      <td>...</td>\n      <td>24.889999</td>\n      <td>70.019997</td>\n      <td>35.139999</td>\n      <td>8.56</td>\n      <td>NaN</td>\n      <td>17.170000</td>\n      <td>24.960462</td>\n      <td>61.900002</td>\n      <td>15.00</td>\n      <td>NaN</td>\n    </tr>\n    <tr>\n      <th>2010-01-07</th>\n      <td>22.038626</td>\n      <td>5.24</td>\n      <td>40.480000</td>\n      <td>30.082857</td>\n      <td>NaN</td>\n      <td>25.770000</td>\n      <td>26.278623</td>\n      <td>42.740002</td>\n      <td>36.889999</td>\n      <td>31.309999</td>\n      <td>...</td>\n      <td>24.639999</td>\n      <td>69.800003</td>\n      <td>35.599998</td>\n      <td>8.60</td>\n      <td>NaN</td>\n      <td>16.700001</td>\n      <td>24.953272</td>\n      <td>63.320000</td>\n      <td>16.68</td>\n      <td>NaN</td>\n    </tr>\n    <tr>\n      <th>2010-01-08</th>\n      <td>22.031474</td>\n      <td>5.14</td>\n      <td>40.639999</td>\n      <td>30.282858</td>\n      <td>NaN</td>\n      <td>26.049999</td>\n      <td>26.412967</td>\n      <td>42.570000</td>\n      <td>36.689999</td>\n      <td>31.490000</td>\n      <td>...</td>\n      <td>25.000000</td>\n      <td>69.519997</td>\n      <td>35.599998</td>\n      <td>8.57</td>\n      <td>NaN</td>\n      <td>16.700001</td>\n      <td>24.960462</td>\n      <td>61.990002</td>\n      <td>16.41</td>\n      <td>NaN</td>\n    </tr>\n  </tbody>\n</table>\n<p>5 rows × 501 columns</p>\n</div>"
     },
     "execution_count": 62,
     "metadata": {},
     "output_type": "execute_result"
    }
   ],
   "source": [
    "# Pivot the dataframe\n",
    "nyse_df = nyse_df.pivot(index=\"date\", columns=\"symbol\", values=\"close\")\n",
    "nyse_df.head()"
   ]
  },
  {
   "cell_type": "markdown",
   "source": [
    "## 1.2. Descriptive Statistics"
   ],
   "metadata": {
    "collapsed": false
   }
  },
  {
   "cell_type": "code",
   "execution_count": 63,
   "id": "825633fa-8bc7-4968-b541-b1c4f2efed3b",
   "metadata": {},
   "outputs": [
    {
     "data": {
      "text/plain": "symbol            A          AAL          AAP         AAPL         ABBV   \ncount   1762.000000  1762.000000  1762.000000  1762.000000  1008.000000  \\\nmean      34.080221    23.873768   103.769597    79.402683    55.473641   \nstd        7.439467    15.557106    43.410717    28.330794     8.690668   \nmin       19.291845     4.000000    39.160000    27.435715    33.709999   \n25%       27.687768     9.332500    66.465000    55.450000    49.315000   \n50%       34.332382    17.225000    84.584999    78.435711    56.389999   \n75%       40.559486    39.349998   148.100003   103.092503    62.309999   \nmax       48.439999    55.759998   200.380005   133.000000    71.230003   \n\nsymbol          ABC          ABT          ACN         ADBE          ADI  ...   \ncount   1762.000000  1762.000000  1762.000000  1762.000000  1762.000000  ...  \\\nmean      60.957747    34.628491    75.211884    55.247911    46.349637  ...   \nstd       25.974059     8.184385    23.328453    25.523074    11.165272  ...   \nmin       25.770000    21.667749    36.439999    22.690001    26.500000  ...   \n25%       37.939999    25.973951    56.637501    32.619999    37.615001  ...   \n50%       56.060000    35.849998    75.020001    45.720000    46.274999  ...   \n75%       81.165001    41.454999    93.000000    76.289999    55.225000  ...   \nmax      115.480003    51.200001   125.400002   110.809998    74.529999  ...   \n\nsymbol         XLNX          XOM         XRAY          XRX          XYL   \ncount   1762.000000  1762.000000  1762.000000  1762.000000  1008.000000  \\\nmean      39.094001    84.006481    44.558087     9.992565    36.477470   \nstd        8.346671    10.255660     9.657220     1.823279     6.763168   \nmin       23.280001    56.570000    27.780001     6.230000    24.190001   \n25%       32.619999    79.202497    36.572501     8.600000    33.345000   \n50%       39.509998    86.005001    42.369999     9.940000    36.205000   \n75%       46.097499    90.430000    51.985002    11.080000    38.179998   \nmax       61.240002   104.379997    65.139999    14.320000    54.750000   \n\nsymbol         YHOO          YUM          ZBH         ZION         ZTS  \ncount   1762.000000  1762.000000  1762.000000  1762.000000  987.000000  \nmean      27.291992    48.223388    82.873859    25.069489   40.142432  \nstd       11.406846    10.432182    24.229881     5.020573    7.749647  \nmin       11.090000    23.522646    46.970001    13.330000   28.400000  \n25%       15.920000    39.234365    60.842500    21.350000   32.169998  \n50%       26.750000    50.413373    79.549999    25.140000   42.369999  \n75%       37.377500    54.879586   103.482500    28.879999   47.145001  \nmax       52.369999    68.209925   133.089996    43.930000   55.380001  \n\n[8 rows x 501 columns]",
      "text/html": "<div>\n<style scoped>\n    .dataframe tbody tr th:only-of-type {\n        vertical-align: middle;\n    }\n\n    .dataframe tbody tr th {\n        vertical-align: top;\n    }\n\n    .dataframe thead th {\n        text-align: right;\n    }\n</style>\n<table border=\"1\" class=\"dataframe\">\n  <thead>\n    <tr style=\"text-align: right;\">\n      <th>symbol</th>\n      <th>A</th>\n      <th>AAL</th>\n      <th>AAP</th>\n      <th>AAPL</th>\n      <th>ABBV</th>\n      <th>ABC</th>\n      <th>ABT</th>\n      <th>ACN</th>\n      <th>ADBE</th>\n      <th>ADI</th>\n      <th>...</th>\n      <th>XLNX</th>\n      <th>XOM</th>\n      <th>XRAY</th>\n      <th>XRX</th>\n      <th>XYL</th>\n      <th>YHOO</th>\n      <th>YUM</th>\n      <th>ZBH</th>\n      <th>ZION</th>\n      <th>ZTS</th>\n    </tr>\n  </thead>\n  <tbody>\n    <tr>\n      <th>count</th>\n      <td>1762.000000</td>\n      <td>1762.000000</td>\n      <td>1762.000000</td>\n      <td>1762.000000</td>\n      <td>1008.000000</td>\n      <td>1762.000000</td>\n      <td>1762.000000</td>\n      <td>1762.000000</td>\n      <td>1762.000000</td>\n      <td>1762.000000</td>\n      <td>...</td>\n      <td>1762.000000</td>\n      <td>1762.000000</td>\n      <td>1762.000000</td>\n      <td>1762.000000</td>\n      <td>1008.000000</td>\n      <td>1762.000000</td>\n      <td>1762.000000</td>\n      <td>1762.000000</td>\n      <td>1762.000000</td>\n      <td>987.000000</td>\n    </tr>\n    <tr>\n      <th>mean</th>\n      <td>34.080221</td>\n      <td>23.873768</td>\n      <td>103.769597</td>\n      <td>79.402683</td>\n      <td>55.473641</td>\n      <td>60.957747</td>\n      <td>34.628491</td>\n      <td>75.211884</td>\n      <td>55.247911</td>\n      <td>46.349637</td>\n      <td>...</td>\n      <td>39.094001</td>\n      <td>84.006481</td>\n      <td>44.558087</td>\n      <td>9.992565</td>\n      <td>36.477470</td>\n      <td>27.291992</td>\n      <td>48.223388</td>\n      <td>82.873859</td>\n      <td>25.069489</td>\n      <td>40.142432</td>\n    </tr>\n    <tr>\n      <th>std</th>\n      <td>7.439467</td>\n      <td>15.557106</td>\n      <td>43.410717</td>\n      <td>28.330794</td>\n      <td>8.690668</td>\n      <td>25.974059</td>\n      <td>8.184385</td>\n      <td>23.328453</td>\n      <td>25.523074</td>\n      <td>11.165272</td>\n      <td>...</td>\n      <td>8.346671</td>\n      <td>10.255660</td>\n      <td>9.657220</td>\n      <td>1.823279</td>\n      <td>6.763168</td>\n      <td>11.406846</td>\n      <td>10.432182</td>\n      <td>24.229881</td>\n      <td>5.020573</td>\n      <td>7.749647</td>\n    </tr>\n    <tr>\n      <th>min</th>\n      <td>19.291845</td>\n      <td>4.000000</td>\n      <td>39.160000</td>\n      <td>27.435715</td>\n      <td>33.709999</td>\n      <td>25.770000</td>\n      <td>21.667749</td>\n      <td>36.439999</td>\n      <td>22.690001</td>\n      <td>26.500000</td>\n      <td>...</td>\n      <td>23.280001</td>\n      <td>56.570000</td>\n      <td>27.780001</td>\n      <td>6.230000</td>\n      <td>24.190001</td>\n      <td>11.090000</td>\n      <td>23.522646</td>\n      <td>46.970001</td>\n      <td>13.330000</td>\n      <td>28.400000</td>\n    </tr>\n    <tr>\n      <th>25%</th>\n      <td>27.687768</td>\n      <td>9.332500</td>\n      <td>66.465000</td>\n      <td>55.450000</td>\n      <td>49.315000</td>\n      <td>37.939999</td>\n      <td>25.973951</td>\n      <td>56.637501</td>\n      <td>32.619999</td>\n      <td>37.615001</td>\n      <td>...</td>\n      <td>32.619999</td>\n      <td>79.202497</td>\n      <td>36.572501</td>\n      <td>8.600000</td>\n      <td>33.345000</td>\n      <td>15.920000</td>\n      <td>39.234365</td>\n      <td>60.842500</td>\n      <td>21.350000</td>\n      <td>32.169998</td>\n    </tr>\n    <tr>\n      <th>50%</th>\n      <td>34.332382</td>\n      <td>17.225000</td>\n      <td>84.584999</td>\n      <td>78.435711</td>\n      <td>56.389999</td>\n      <td>56.060000</td>\n      <td>35.849998</td>\n      <td>75.020001</td>\n      <td>45.720000</td>\n      <td>46.274999</td>\n      <td>...</td>\n      <td>39.509998</td>\n      <td>86.005001</td>\n      <td>42.369999</td>\n      <td>9.940000</td>\n      <td>36.205000</td>\n      <td>26.750000</td>\n      <td>50.413373</td>\n      <td>79.549999</td>\n      <td>25.140000</td>\n      <td>42.369999</td>\n    </tr>\n    <tr>\n      <th>75%</th>\n      <td>40.559486</td>\n      <td>39.349998</td>\n      <td>148.100003</td>\n      <td>103.092503</td>\n      <td>62.309999</td>\n      <td>81.165001</td>\n      <td>41.454999</td>\n      <td>93.000000</td>\n      <td>76.289999</td>\n      <td>55.225000</td>\n      <td>...</td>\n      <td>46.097499</td>\n      <td>90.430000</td>\n      <td>51.985002</td>\n      <td>11.080000</td>\n      <td>38.179998</td>\n      <td>37.377500</td>\n      <td>54.879586</td>\n      <td>103.482500</td>\n      <td>28.879999</td>\n      <td>47.145001</td>\n    </tr>\n    <tr>\n      <th>max</th>\n      <td>48.439999</td>\n      <td>55.759998</td>\n      <td>200.380005</td>\n      <td>133.000000</td>\n      <td>71.230003</td>\n      <td>115.480003</td>\n      <td>51.200001</td>\n      <td>125.400002</td>\n      <td>110.809998</td>\n      <td>74.529999</td>\n      <td>...</td>\n      <td>61.240002</td>\n      <td>104.379997</td>\n      <td>65.139999</td>\n      <td>14.320000</td>\n      <td>54.750000</td>\n      <td>52.369999</td>\n      <td>68.209925</td>\n      <td>133.089996</td>\n      <td>43.930000</td>\n      <td>55.380001</td>\n    </tr>\n  </tbody>\n</table>\n<p>8 rows × 501 columns</p>\n</div>"
     },
     "execution_count": 63,
     "metadata": {},
     "output_type": "execute_result"
    }
   ],
   "source": [
    "nyse_df.describe()"
   ]
  },
  {
   "cell_type": "code",
   "execution_count": 64,
   "outputs": [
    {
     "data": {
      "text/plain": "(1762, 501)"
     },
     "execution_count": 64,
     "metadata": {},
     "output_type": "execute_result"
    }
   ],
   "source": [
    "nyse_df.shape"
   ],
   "metadata": {
    "collapsed": false
   }
  },
  {
   "cell_type": "markdown",
   "source": [
    "## 1.3. Data Cleaning"
   ],
   "metadata": {
    "collapsed": false
   }
  },
  {
   "cell_type": "code",
   "execution_count": 65,
   "outputs": [
    {
     "name": "stdout",
     "output_type": "stream",
     "text": [
      "Null Values = True\n"
     ]
    }
   ],
   "source": [
    "# Checking for any null values and removing the null values\n",
    "print('Null Values =',nyse_df.isnull().values.any())"
   ],
   "metadata": {
    "collapsed": false
   }
  },
  {
   "cell_type": "code",
   "execution_count": 66,
   "outputs": [
    {
     "data": {
      "text/plain": "(1762, 470)"
     },
     "execution_count": 66,
     "metadata": {},
     "output_type": "execute_result"
    }
   ],
   "source": [
    "# Removing stocks that have more than 30% NaN values\n",
    "nyse_df2 = nyse_df.copy()\n",
    "\n",
    "missing_fractions = nyse_df2.isnull().mean().sort_values(ascending=False)\n",
    "\n",
    "drop_list = sorted(list(missing_fractions[missing_fractions > 0.3].index))\n",
    "\n",
    "nyse_df2.drop(labels=drop_list, axis=1, inplace=True)\n",
    "nyse_df2.shape"
   ],
   "metadata": {
    "collapsed": false
   }
  },
  {
   "cell_type": "markdown",
   "source": [
    "I decided to not go through with removing stocks with >30% NaN values. It removed all stocks from the df that were founded after ~2012, including (but not limited to) some big names with a potentially large impac such as: Google (Alphabet), PayPal, and Mondelez. Instead, due to the narrow time frame of this dataset, all NaN values will be back filled, so a company added in 2012 @ $35.68 will read $35.68 up until that point. It will also take care of any random NaN values that occur later in the set and not effect the data too much."
   ],
   "metadata": {
    "collapsed": false
   }
  },
  {
   "cell_type": "code",
   "execution_count": 67,
   "outputs": [
    {
     "data": {
      "text/plain": "symbol              A   AAL        AAP       AAPL       ABBV        ABC   \ndate                                                                      \n2010-01-04  22.389128  4.77  40.380001  30.572857  35.119999  26.629999  \\\n2010-01-05  22.145923  5.31  40.139999  30.625713  35.119999  26.440001   \n2010-01-06  22.067240  5.09  40.490002  30.138571  35.119999  26.190001   \n2010-01-07  22.038626  5.24  40.480000  30.082857  35.119999  25.770000   \n2010-01-08  22.031474  5.14  40.639999  30.282858  35.119999  26.049999   \n\nsymbol            ABT        ACN       ADBE        ADI  ...       XLNX   \ndate                                                    ...              \n2010-01-04  26.129884  42.070000  37.090000  31.670000  ...  25.379999  \\\n2010-01-05  25.918773  42.330002  37.700001  31.620001  ...  25.059999   \n2010-01-06  26.062713  42.779999  37.619999  31.559999  ...  24.889999   \n2010-01-07  26.278623  42.740002  36.889999  31.309999  ...  24.639999   \n2010-01-08  26.412967  42.570000  36.689999  31.490000  ...  25.000000   \n\nsymbol            XOM       XRAY   XRX   XYL       YHOO        YUM        ZBH   \ndate                                                                            \n2010-01-04  69.150002  35.330002  8.63  27.5  17.100000  25.226457  60.020000  \\\n2010-01-05  69.419998  34.910000  8.64  27.5  17.230000  25.140187  61.919998   \n2010-01-06  70.019997  35.139999  8.56  27.5  17.170000  24.960462  61.900002   \n2010-01-07  69.800003  35.599998  8.60  27.5  16.700001  24.953272  63.320000   \n2010-01-08  69.519997  35.599998  8.57  27.5  16.700001  24.960462  61.990002   \n\nsymbol       ZION    ZTS  \ndate                      \n2010-01-04  13.33  31.01  \n2010-01-05  13.80  31.01  \n2010-01-06  15.00  31.01  \n2010-01-07  16.68  31.01  \n2010-01-08  16.41  31.01  \n\n[5 rows x 501 columns]",
      "text/html": "<div>\n<style scoped>\n    .dataframe tbody tr th:only-of-type {\n        vertical-align: middle;\n    }\n\n    .dataframe tbody tr th {\n        vertical-align: top;\n    }\n\n    .dataframe thead th {\n        text-align: right;\n    }\n</style>\n<table border=\"1\" class=\"dataframe\">\n  <thead>\n    <tr style=\"text-align: right;\">\n      <th>symbol</th>\n      <th>A</th>\n      <th>AAL</th>\n      <th>AAP</th>\n      <th>AAPL</th>\n      <th>ABBV</th>\n      <th>ABC</th>\n      <th>ABT</th>\n      <th>ACN</th>\n      <th>ADBE</th>\n      <th>ADI</th>\n      <th>...</th>\n      <th>XLNX</th>\n      <th>XOM</th>\n      <th>XRAY</th>\n      <th>XRX</th>\n      <th>XYL</th>\n      <th>YHOO</th>\n      <th>YUM</th>\n      <th>ZBH</th>\n      <th>ZION</th>\n      <th>ZTS</th>\n    </tr>\n    <tr>\n      <th>date</th>\n      <th></th>\n      <th></th>\n      <th></th>\n      <th></th>\n      <th></th>\n      <th></th>\n      <th></th>\n      <th></th>\n      <th></th>\n      <th></th>\n      <th></th>\n      <th></th>\n      <th></th>\n      <th></th>\n      <th></th>\n      <th></th>\n      <th></th>\n      <th></th>\n      <th></th>\n      <th></th>\n      <th></th>\n    </tr>\n  </thead>\n  <tbody>\n    <tr>\n      <th>2010-01-04</th>\n      <td>22.389128</td>\n      <td>4.77</td>\n      <td>40.380001</td>\n      <td>30.572857</td>\n      <td>35.119999</td>\n      <td>26.629999</td>\n      <td>26.129884</td>\n      <td>42.070000</td>\n      <td>37.090000</td>\n      <td>31.670000</td>\n      <td>...</td>\n      <td>25.379999</td>\n      <td>69.150002</td>\n      <td>35.330002</td>\n      <td>8.63</td>\n      <td>27.5</td>\n      <td>17.100000</td>\n      <td>25.226457</td>\n      <td>60.020000</td>\n      <td>13.33</td>\n      <td>31.01</td>\n    </tr>\n    <tr>\n      <th>2010-01-05</th>\n      <td>22.145923</td>\n      <td>5.31</td>\n      <td>40.139999</td>\n      <td>30.625713</td>\n      <td>35.119999</td>\n      <td>26.440001</td>\n      <td>25.918773</td>\n      <td>42.330002</td>\n      <td>37.700001</td>\n      <td>31.620001</td>\n      <td>...</td>\n      <td>25.059999</td>\n      <td>69.419998</td>\n      <td>34.910000</td>\n      <td>8.64</td>\n      <td>27.5</td>\n      <td>17.230000</td>\n      <td>25.140187</td>\n      <td>61.919998</td>\n      <td>13.80</td>\n      <td>31.01</td>\n    </tr>\n    <tr>\n      <th>2010-01-06</th>\n      <td>22.067240</td>\n      <td>5.09</td>\n      <td>40.490002</td>\n      <td>30.138571</td>\n      <td>35.119999</td>\n      <td>26.190001</td>\n      <td>26.062713</td>\n      <td>42.779999</td>\n      <td>37.619999</td>\n      <td>31.559999</td>\n      <td>...</td>\n      <td>24.889999</td>\n      <td>70.019997</td>\n      <td>35.139999</td>\n      <td>8.56</td>\n      <td>27.5</td>\n      <td>17.170000</td>\n      <td>24.960462</td>\n      <td>61.900002</td>\n      <td>15.00</td>\n      <td>31.01</td>\n    </tr>\n    <tr>\n      <th>2010-01-07</th>\n      <td>22.038626</td>\n      <td>5.24</td>\n      <td>40.480000</td>\n      <td>30.082857</td>\n      <td>35.119999</td>\n      <td>25.770000</td>\n      <td>26.278623</td>\n      <td>42.740002</td>\n      <td>36.889999</td>\n      <td>31.309999</td>\n      <td>...</td>\n      <td>24.639999</td>\n      <td>69.800003</td>\n      <td>35.599998</td>\n      <td>8.60</td>\n      <td>27.5</td>\n      <td>16.700001</td>\n      <td>24.953272</td>\n      <td>63.320000</td>\n      <td>16.68</td>\n      <td>31.01</td>\n    </tr>\n    <tr>\n      <th>2010-01-08</th>\n      <td>22.031474</td>\n      <td>5.14</td>\n      <td>40.639999</td>\n      <td>30.282858</td>\n      <td>35.119999</td>\n      <td>26.049999</td>\n      <td>26.412967</td>\n      <td>42.570000</td>\n      <td>36.689999</td>\n      <td>31.490000</td>\n      <td>...</td>\n      <td>25.000000</td>\n      <td>69.519997</td>\n      <td>35.599998</td>\n      <td>8.57</td>\n      <td>27.5</td>\n      <td>16.700001</td>\n      <td>24.960462</td>\n      <td>61.990002</td>\n      <td>16.41</td>\n      <td>31.01</td>\n    </tr>\n  </tbody>\n</table>\n<p>5 rows × 501 columns</p>\n</div>"
     },
     "execution_count": 67,
     "metadata": {},
     "output_type": "execute_result"
    }
   ],
   "source": [
    "# Fill the missing values with the last value available in the dataset.\n",
    "nyse_df = nyse_df.fillna(method=\"bfill\")\n",
    "nyse_df.head()"
   ],
   "metadata": {
    "collapsed": false
   }
  },
  {
   "cell_type": "code",
   "execution_count": 68,
   "outputs": [
    {
     "name": "stdout",
     "output_type": "stream",
     "text": [
      "symbol             A       AAL       AAP      AAPL      ABBV       ABC   \n",
      "date                                                                     \n",
      "2010-01-04       NaN       NaN       NaN       NaN       NaN       NaN  \\\n",
      "2010-01-05 -0.010863  0.113208 -0.005944  0.001729  0.000000 -0.007135   \n",
      "2010-01-06 -0.003553 -0.041431  0.008720 -0.015906  0.000000 -0.009455   \n",
      "2010-01-07 -0.001297  0.029470 -0.000247 -0.001849  0.000000 -0.016037   \n",
      "2010-01-08 -0.000325 -0.019084  0.003953  0.006648  0.000000  0.010865   \n",
      "...              ...       ...       ...       ...       ...       ...   \n",
      "2016-12-23  0.005003 -0.004313  0.002934  0.001978  0.011028  0.009639   \n",
      "2016-12-27  0.006710  0.002682  0.005559  0.006351  0.002567  0.003310   \n",
      "2016-12-28 -0.016986 -0.019338 -0.008263 -0.004264 -0.003680 -0.005963   \n",
      "2016-12-29 -0.001750 -0.008811 -0.000821 -0.000257  0.007387  0.012636   \n",
      "2016-12-30 -0.001753 -0.011852 -0.006812 -0.007796 -0.001754 -0.014495   \n",
      "\n",
      "symbol           ABT       ACN      ADBE       ADI  ...      XLNX       XOM   \n",
      "date                                                ...                       \n",
      "2010-01-04       NaN       NaN       NaN       NaN  ...       NaN       NaN  \\\n",
      "2010-01-05 -0.008079  0.006180  0.016447 -0.001579  ... -0.012608  0.003904   \n",
      "2010-01-06  0.005554  0.010631 -0.002122 -0.001898  ... -0.006784  0.008643   \n",
      "2010-01-07  0.008284 -0.000935 -0.019405 -0.007921  ... -0.010044 -0.003142   \n",
      "2010-01-08  0.005112 -0.003978 -0.005422  0.005749  ...  0.014610 -0.004012   \n",
      "...              ...       ...       ...       ...  ...       ...       ...   \n",
      "2016-12-23  0.003395 -0.002632  0.002865  0.005310  ...  0.006147 -0.001761   \n",
      "2016-12-27  0.004685  0.000596 -0.000381  0.006365  ...  0.011229  0.000441   \n",
      "2016-12-28 -0.009844 -0.007997 -0.011526 -0.010093  ... -0.009961 -0.004959   \n",
      "2016-12-29  0.002355  0.003430 -0.000867  0.000272  ...  0.001814  0.000554   \n",
      "2016-12-30  0.002610  0.001026 -0.007041 -0.013047  ... -0.006092 -0.000996   \n",
      "\n",
      "symbol          XRAY       XRX       XYL      YHOO       YUM       ZBH   \n",
      "date                                                                     \n",
      "2010-01-04       NaN       NaN       NaN       NaN       NaN       NaN  \\\n",
      "2010-01-05 -0.011888  0.001159  0.000000  0.007602 -0.003420  0.031656   \n",
      "2010-01-06  0.006588 -0.009259  0.000000 -0.003482 -0.007149 -0.000323   \n",
      "2010-01-07  0.013090  0.004673  0.000000 -0.027373 -0.000288  0.022940   \n",
      "2010-01-08  0.000000 -0.003488  0.000000  0.000000  0.000288 -0.021004   \n",
      "...              ...       ...       ...       ...       ...       ...   \n",
      "2016-12-23  0.001860 -0.006659 -0.002347  0.004156 -0.003747  0.007384   \n",
      "2016-12-27 -0.002870 -0.001117 -0.002941  0.006725  0.003448  0.008014   \n",
      "2016-12-28 -0.015575 -0.020134 -0.018089 -0.004882 -0.004841 -0.000776   \n",
      "2016-12-29  0.001720 -0.004566 -0.003404 -0.002324 -0.001412  0.004269   \n",
      "2016-12-30 -0.008927  0.001147 -0.005023  0.000776 -0.004715 -0.002899   \n",
      "\n",
      "symbol          ZION       ZTS  \n",
      "date                            \n",
      "2010-01-04       NaN       NaN  \n",
      "2010-01-05  0.035259  0.000000  \n",
      "2010-01-06  0.086957  0.000000  \n",
      "2010-01-07  0.112000  0.000000  \n",
      "2010-01-08 -0.016187  0.000000  \n",
      "...              ...       ...  \n",
      "2016-12-23  0.002743  0.009763  \n",
      "2016-12-27  0.001596 -0.001116  \n",
      "2016-12-28 -0.014796 -0.005212  \n",
      "2016-12-29 -0.011322  0.003368  \n",
      "2016-12-30  0.005842 -0.001678  \n",
      "\n",
      "[1762 rows x 501 columns]\n",
      "symbol             A       AAL       AAP      AAPL      ABBV       ABC   \n",
      "date                                                                     \n",
      "2010-01-25  0.009599 -0.003817  0.019124  0.026903  0.000000  0.016879  \\\n",
      "2010-03-03  0.002472 -0.027344  0.003628  0.002298  0.000000 -0.016163   \n",
      "2010-03-19 -0.001195 -0.053333  0.017882 -0.010683  0.000000  0.003850   \n",
      "2010-03-31 -0.006644  0.018006 -0.007341 -0.003604  0.000000 -0.012295   \n",
      "2010-07-06 -0.001439 -0.013431 -0.009998  0.006844  0.000000  0.013583   \n",
      "...              ...       ...       ...       ...       ...       ...   \n",
      "2016-12-09  0.010917  0.033091 -0.005325  0.016322  0.010509  0.026275   \n",
      "2016-12-19 -0.010455  0.019945  0.011110  0.005777  0.000000  0.013440   \n",
      "2016-12-23  0.005003 -0.004313  0.002934  0.001978  0.011028  0.009639   \n",
      "2016-12-27  0.006710  0.002682  0.005559  0.006351  0.002567  0.003310   \n",
      "2016-12-30 -0.001753 -0.011852 -0.006812 -0.007796 -0.001754 -0.014495   \n",
      "\n",
      "symbol           ABT       ACN      ADBE       ADI  ...      XLNX       XOM   \n",
      "date                                                ...                       \n",
      "2010-01-25  0.003486 -0.007112 -0.006399  0.009006  ...  0.022651 -0.003782  \\\n",
      "2010-03-03 -0.009161  0.000985  0.002303 -0.014517  ... -0.006823 -0.000916   \n",
      "2010-03-19 -0.005765 -0.005203 -0.030210 -0.013594  ... -0.016999 -0.005194   \n",
      "2010-03-31  0.003237 -0.006160 -0.008688 -0.006549  ... -0.008554 -0.001044   \n",
      "2010-07-06  0.004950  0.012388 -0.014590  0.000718  ...  0.002369  0.015733   \n",
      "...              ...       ...       ...       ...  ...       ...       ...   \n",
      "2016-12-09  0.013444  0.012896  0.007826 -0.010016  ...  0.004853  0.007699   \n",
      "2016-12-19  0.006299  0.005285  0.016803  0.009988  ...  0.002566 -0.008335   \n",
      "2016-12-23  0.003395 -0.002632  0.002865  0.005310  ...  0.006147 -0.001761   \n",
      "2016-12-27  0.004685  0.000596 -0.000381  0.006365  ...  0.011229  0.000441   \n",
      "2016-12-30  0.002610  0.001026 -0.007041 -0.013047  ... -0.006092 -0.000996   \n",
      "\n",
      "symbol          XRAY       XRX       XYL      YHOO       YUM       ZBH   \n",
      "date                                                                     \n",
      "2010-01-25  0.001161 -0.008919  0.000000 -0.001259 -0.000292  0.004126  \\\n",
      "2010-03-03 -0.000886  0.002105  0.000000 -0.010172 -0.003228 -0.000339   \n",
      "2010-03-19 -0.008999 -0.029412  0.000000 -0.007246 -0.005505 -0.008182   \n",
      "2010-03-31  0.002299  0.006192  0.000000 -0.004816 -0.001303  0.002880   \n",
      "2010-07-06  0.008847 -0.010013  0.000000  0.004264  0.004412  0.013255   \n",
      "...              ...       ...       ...       ...       ...       ...   \n",
      "2016-12-09  0.003742 -0.006303 -0.007901  0.008452  0.002020  0.007372   \n",
      "2016-12-19 -0.006658  0.000000  0.013174 -0.004921 -0.003268 -0.006184   \n",
      "2016-12-23  0.001860 -0.006659 -0.002347  0.004156 -0.003747  0.007384   \n",
      "2016-12-27 -0.002870 -0.001117 -0.002941  0.006725  0.003448  0.008014   \n",
      "2016-12-30 -0.008927  0.001147 -0.005023  0.000776 -0.004715 -0.002899   \n",
      "\n",
      "symbol          ZION       ZTS  \n",
      "date                            \n",
      "2010-01-25  0.014723  0.000000  \n",
      "2010-03-03 -0.012875  0.000000  \n",
      "2010-03-19 -0.027277  0.000000  \n",
      "2010-03-31  0.008310  0.000000  \n",
      "2010-07-06  0.006265  0.000000  \n",
      "...              ...       ...  \n",
      "2016-12-09  0.003249  0.004063  \n",
      "2016-12-19  0.015941 -0.001334  \n",
      "2016-12-23  0.002743  0.009763  \n",
      "2016-12-27  0.001596 -0.001116  \n",
      "2016-12-30  0.005842 -0.001678  \n",
      "\n",
      "[217 rows x 501 columns]\n"
     ]
    }
   ],
   "source": [
    "# Daily Linear Returns (%)\n",
    "nyse_dailyReturns = nyse_df.pct_change(1)\n",
    "print(nyse_dailyReturns)\n",
    "\n",
    "nyse_dailyReturns2 = nyse_dailyReturns.copy()\n",
    "# Remove Outliers beyond 3 standard deviation\n",
    "nyse_dailyReturns2 = nyse_dailyReturns2[nyse_dailyReturns2.apply(lambda x :(x-x.mean()).abs()<(3*x.std()) ).all(1)]\n",
    "print(nyse_dailyReturns2)"
   ],
   "metadata": {
    "collapsed": false
   }
  },
  {
   "cell_type": "markdown",
   "source": [
    "I decided against removing data outside of 3 standard deviations as it resulted in a drastic loss of data (1762x501 to 217x501). These outliers could be genuine data points caused by real events (market crashes, stock splitting, etc) rather than human error. Removing these could have a drastic impact on the performance of the PCA we are conducting, as such I have decided to leave them in."
   ],
   "metadata": {
    "collapsed": false
   }
  },
  {
   "cell_type": "markdown",
   "source": [
    "## 1.4. Data Transformation"
   ],
   "metadata": {
    "collapsed": false
   }
  },
  {
   "cell_type": "code",
   "execution_count": null,
   "outputs": [],
   "source": [],
   "metadata": {
    "collapsed": false
   }
  }
 ],
 "metadata": {
  "kernelspec": {
   "display_name": "Python 3 (ipykernel)",
   "language": "python",
   "name": "python3"
  },
  "language_info": {
   "codemirror_mode": {
    "name": "ipython",
    "version": 3
   },
   "file_extension": ".py",
   "mimetype": "text/x-python",
   "name": "python",
   "nbconvert_exporter": "python",
   "pygments_lexer": "ipython3",
   "version": "3.9.12"
  }
 },
 "nbformat": 4,
 "nbformat_minor": 5
}
